{
 "cells": [
  {
   "cell_type": "markdown",
   "id": "88aeae7e",
   "metadata": {},
   "source": [
    "# Context\n",
    "AllLife Bank wants to focus on its credit card customer base in the next financial year. They have been advised by their marketing research team, that the penetration in the market can be improved. Based on this input, the Marketing team proposes to run personalized campaigns to target new customers as well as upsell to existing customers. Another insight from the market research was that the customers perceive the support services of the back poorly. Based on this, the Operations team wants to upgrade the service delivery model, to ensure that customer queries are resolved faster. Head of Marketing and Head of Delivery both decide to reach out to the Data Science team for help\n",
    "\n",
    " \n",
    "\n",
    "# Objective\n",
    "To identify different segments in the existing customer, based on their spending patterns as well as past interaction with the bank, using clustering algorithms, and provide recommendations to the bank on how to better market to and service these customers.\n",
    "\n",
    " \n",
    "\n",
    "# Data Description\n",
    "The data provided is of various customers of a bank and their financial attributes like credit limit, the total number of credit cards the customer has, and different channels through which customers have contacted the bank for any queries (including visiting the bank, online and through a call center).\n",
    "\n",
    "# Data Dictionary\n",
    "\n",
    "* Sl_No: Primary key of the records\n",
    "* Customer Key: Customer identification number\n",
    "* Average Credit Limit: Average credit limit of each customer for all credit cards\n",
    "* Total credit cards: Total number of credit cards possessed by the customer\n",
    "* Total visits bank: Total number of visits that customer made (yearly) personally to the bank\n",
    "* Total visits online: Total number of visits or online logins made by the customer (yearly)\n",
    "* Total calls made: Total number of calls made by the customer to the bank or its customer service department (yearly)"
   ]
  },
  {
   "cell_type": "code",
   "execution_count": 1,
   "id": "2a5343ac",
   "metadata": {},
   "outputs": [],
   "source": [
    "import numpy as np\n",
    "import pandas as pd\n",
    "import seaborn as sns\n",
    "import matplotlib.pyplot as plt\n",
    "%matplotlib inline\n",
    "\n",
    "from sklearn.cluster import KMeans, AgglomerativeClustering\n",
    "from sklearn.decomposition import PCA\n",
    "from sklearn.metrics import silhouette_score\n",
    "from yellowbrick.cluster import KElbowVisualizer, SilhouetteVisualizer\n",
    "from scipy.cluster.hierarchy import linkage, dendrogram\n",
    "from scipy.spatial.distance import pdist"
   ]
  },
  {
   "cell_type": "markdown",
   "id": "ef097c79",
   "metadata": {},
   "source": [
    "# Data Overview"
   ]
  },
  {
   "cell_type": "code",
   "execution_count": 2,
   "id": "0c506eea",
   "metadata": {},
   "outputs": [],
   "source": [
    "bank = pd.read_excel(\"Credit Card Customer Data.xlsx\")"
   ]
  },
  {
   "cell_type": "code",
   "execution_count": 3,
   "id": "203af95a",
   "metadata": {},
   "outputs": [],
   "source": [
    "df = bank.copy()"
   ]
  },
  {
   "cell_type": "code",
   "execution_count": 4,
   "id": "ccbff2ca",
   "metadata": {},
   "outputs": [
    {
     "data": {
      "text/plain": [
       "(660, 7)"
      ]
     },
     "execution_count": 4,
     "metadata": {},
     "output_type": "execute_result"
    }
   ],
   "source": [
    "df.shape"
   ]
  },
  {
   "cell_type": "code",
   "execution_count": 5,
   "id": "2c9c64b9",
   "metadata": {},
   "outputs": [
    {
     "data": {
      "text/html": [
       "<div>\n",
       "<style scoped>\n",
       "    .dataframe tbody tr th:only-of-type {\n",
       "        vertical-align: middle;\n",
       "    }\n",
       "\n",
       "    .dataframe tbody tr th {\n",
       "        vertical-align: top;\n",
       "    }\n",
       "\n",
       "    .dataframe thead th {\n",
       "        text-align: right;\n",
       "    }\n",
       "</style>\n",
       "<table border=\"1\" class=\"dataframe\">\n",
       "  <thead>\n",
       "    <tr style=\"text-align: right;\">\n",
       "      <th></th>\n",
       "      <th>Sl_No</th>\n",
       "      <th>Customer Key</th>\n",
       "      <th>Avg_Credit_Limit</th>\n",
       "      <th>Total_Credit_Cards</th>\n",
       "      <th>Total_visits_bank</th>\n",
       "      <th>Total_visits_online</th>\n",
       "      <th>Total_calls_made</th>\n",
       "    </tr>\n",
       "  </thead>\n",
       "  <tbody>\n",
       "    <tr>\n",
       "      <th>0</th>\n",
       "      <td>1</td>\n",
       "      <td>87073</td>\n",
       "      <td>100000</td>\n",
       "      <td>2</td>\n",
       "      <td>1</td>\n",
       "      <td>1</td>\n",
       "      <td>0</td>\n",
       "    </tr>\n",
       "    <tr>\n",
       "      <th>1</th>\n",
       "      <td>2</td>\n",
       "      <td>38414</td>\n",
       "      <td>50000</td>\n",
       "      <td>3</td>\n",
       "      <td>0</td>\n",
       "      <td>10</td>\n",
       "      <td>9</td>\n",
       "    </tr>\n",
       "    <tr>\n",
       "      <th>2</th>\n",
       "      <td>3</td>\n",
       "      <td>17341</td>\n",
       "      <td>50000</td>\n",
       "      <td>7</td>\n",
       "      <td>1</td>\n",
       "      <td>3</td>\n",
       "      <td>4</td>\n",
       "    </tr>\n",
       "    <tr>\n",
       "      <th>3</th>\n",
       "      <td>4</td>\n",
       "      <td>40496</td>\n",
       "      <td>30000</td>\n",
       "      <td>5</td>\n",
       "      <td>1</td>\n",
       "      <td>1</td>\n",
       "      <td>4</td>\n",
       "    </tr>\n",
       "    <tr>\n",
       "      <th>4</th>\n",
       "      <td>5</td>\n",
       "      <td>47437</td>\n",
       "      <td>100000</td>\n",
       "      <td>6</td>\n",
       "      <td>0</td>\n",
       "      <td>12</td>\n",
       "      <td>3</td>\n",
       "    </tr>\n",
       "  </tbody>\n",
       "</table>\n",
       "</div>"
      ],
      "text/plain": [
       "   Sl_No  Customer Key  Avg_Credit_Limit  Total_Credit_Cards  \\\n",
       "0      1         87073            100000                   2   \n",
       "1      2         38414             50000                   3   \n",
       "2      3         17341             50000                   7   \n",
       "3      4         40496             30000                   5   \n",
       "4      5         47437            100000                   6   \n",
       "\n",
       "   Total_visits_bank  Total_visits_online  Total_calls_made  \n",
       "0                  1                    1                 0  \n",
       "1                  0                   10                 9  \n",
       "2                  1                    3                 4  \n",
       "3                  1                    1                 4  \n",
       "4                  0                   12                 3  "
      ]
     },
     "execution_count": 5,
     "metadata": {},
     "output_type": "execute_result"
    }
   ],
   "source": [
    "df.head()"
   ]
  },
  {
   "cell_type": "code",
   "execution_count": 6,
   "id": "ceb5b82f",
   "metadata": {},
   "outputs": [
    {
     "name": "stdout",
     "output_type": "stream",
     "text": [
      "<class 'pandas.core.frame.DataFrame'>\n",
      "RangeIndex: 660 entries, 0 to 659\n",
      "Data columns (total 7 columns):\n",
      " #   Column               Non-Null Count  Dtype\n",
      "---  ------               --------------  -----\n",
      " 0   Sl_No                660 non-null    int64\n",
      " 1   Customer Key         660 non-null    int64\n",
      " 2   Avg_Credit_Limit     660 non-null    int64\n",
      " 3   Total_Credit_Cards   660 non-null    int64\n",
      " 4   Total_visits_bank    660 non-null    int64\n",
      " 5   Total_visits_online  660 non-null    int64\n",
      " 6   Total_calls_made     660 non-null    int64\n",
      "dtypes: int64(7)\n",
      "memory usage: 36.2 KB\n"
     ]
    }
   ],
   "source": [
    "df.info()"
   ]
  },
  {
   "cell_type": "markdown",
   "id": "36d1853c",
   "metadata": {},
   "source": [
    "- The dataset consists of 660 rows and 7 columns. All columns are integers.\n",
    "- Column name `Customer Key` needs to be fixed.\n",
    "\n",
    "**Fix column name**"
   ]
  },
  {
   "cell_type": "code",
   "execution_count": 7,
   "id": "d2534525",
   "metadata": {},
   "outputs": [],
   "source": [
    "df.rename(columns = {\"Customer Key\": \"Customer_Key\"}, inplace = True)"
   ]
  },
  {
   "cell_type": "markdown",
   "id": "58f01e87",
   "metadata": {},
   "source": [
    "**Check missing values**"
   ]
  },
  {
   "cell_type": "code",
   "execution_count": 8,
   "id": "d80a862a",
   "metadata": {},
   "outputs": [
    {
     "data": {
      "text/plain": [
       "Sl_No                  0\n",
       "Customer_Key           0\n",
       "Avg_Credit_Limit       0\n",
       "Total_Credit_Cards     0\n",
       "Total_visits_bank      0\n",
       "Total_visits_online    0\n",
       "Total_calls_made       0\n",
       "dtype: int64"
      ]
     },
     "execution_count": 8,
     "metadata": {},
     "output_type": "execute_result"
    }
   ],
   "source": [
    "df.isnull().sum()"
   ]
  },
  {
   "cell_type": "markdown",
   "id": "4fa0f63d",
   "metadata": {},
   "source": [
    "- No missing values.\n",
    "\n",
    "**Check unique values**"
   ]
  },
  {
   "cell_type": "code",
   "execution_count": 9,
   "id": "c025eab5",
   "metadata": {},
   "outputs": [
    {
     "data": {
      "text/plain": [
       "Sl_No                  660\n",
       "Customer_Key           655\n",
       "Avg_Credit_Limit       110\n",
       "Total_Credit_Cards      10\n",
       "Total_visits_bank        6\n",
       "Total_visits_online     16\n",
       "Total_calls_made        11\n",
       "dtype: int64"
      ]
     },
     "execution_count": 9,
     "metadata": {},
     "output_type": "execute_result"
    }
   ],
   "source": [
    "df.nunique()"
   ]
  },
  {
   "cell_type": "markdown",
   "id": "b072e3ae",
   "metadata": {},
   "source": [
    "- `Sl_No` is the Primary key of the records. It has 660 unique values, that means it would no provide any information for our clustering.\n",
    "- `Customer_Key` is Customer identification number. It would not be used for the clustering. However, it only has 655 unique values, indicating duplicate customer key."
   ]
  },
  {
   "cell_type": "code",
   "execution_count": 10,
   "id": "02025a93",
   "metadata": {},
   "outputs": [
    {
     "data": {
      "text/plain": [
       "array([47437, 96929, 37252, 50706, 97935])"
      ]
     },
     "execution_count": 10,
     "metadata": {},
     "output_type": "execute_result"
    }
   ],
   "source": [
    "df.loc[df.duplicated(subset = \"Customer_Key\"), \"Customer_Key\"].values"
   ]
  },
  {
   "cell_type": "markdown",
   "id": "f96df04f",
   "metadata": {},
   "source": [
    "- Five Customer Keys are repeated. Check these obserevations."
   ]
  },
  {
   "cell_type": "code",
   "execution_count": 11,
   "id": "d3f9604c",
   "metadata": {},
   "outputs": [
    {
     "data": {
      "text/html": [
       "<div>\n",
       "<style scoped>\n",
       "    .dataframe tbody tr th:only-of-type {\n",
       "        vertical-align: middle;\n",
       "    }\n",
       "\n",
       "    .dataframe tbody tr th {\n",
       "        vertical-align: top;\n",
       "    }\n",
       "\n",
       "    .dataframe thead th {\n",
       "        text-align: right;\n",
       "    }\n",
       "</style>\n",
       "<table border=\"1\" class=\"dataframe\">\n",
       "  <thead>\n",
       "    <tr style=\"text-align: right;\">\n",
       "      <th></th>\n",
       "      <th>Sl_No</th>\n",
       "      <th>Customer_Key</th>\n",
       "      <th>Avg_Credit_Limit</th>\n",
       "      <th>Total_Credit_Cards</th>\n",
       "      <th>Total_visits_bank</th>\n",
       "      <th>Total_visits_online</th>\n",
       "      <th>Total_calls_made</th>\n",
       "    </tr>\n",
       "  </thead>\n",
       "  <tbody>\n",
       "    <tr>\n",
       "      <th>48</th>\n",
       "      <td>49</td>\n",
       "      <td>37252</td>\n",
       "      <td>6000</td>\n",
       "      <td>4</td>\n",
       "      <td>0</td>\n",
       "      <td>2</td>\n",
       "      <td>8</td>\n",
       "    </tr>\n",
       "    <tr>\n",
       "      <th>432</th>\n",
       "      <td>433</td>\n",
       "      <td>37252</td>\n",
       "      <td>59000</td>\n",
       "      <td>6</td>\n",
       "      <td>2</td>\n",
       "      <td>1</td>\n",
       "      <td>2</td>\n",
       "    </tr>\n",
       "    <tr>\n",
       "      <th>4</th>\n",
       "      <td>5</td>\n",
       "      <td>47437</td>\n",
       "      <td>100000</td>\n",
       "      <td>6</td>\n",
       "      <td>0</td>\n",
       "      <td>12</td>\n",
       "      <td>3</td>\n",
       "    </tr>\n",
       "    <tr>\n",
       "      <th>332</th>\n",
       "      <td>333</td>\n",
       "      <td>47437</td>\n",
       "      <td>17000</td>\n",
       "      <td>7</td>\n",
       "      <td>3</td>\n",
       "      <td>1</td>\n",
       "      <td>0</td>\n",
       "    </tr>\n",
       "    <tr>\n",
       "      <th>411</th>\n",
       "      <td>412</td>\n",
       "      <td>50706</td>\n",
       "      <td>44000</td>\n",
       "      <td>4</td>\n",
       "      <td>5</td>\n",
       "      <td>0</td>\n",
       "      <td>2</td>\n",
       "    </tr>\n",
       "    <tr>\n",
       "      <th>541</th>\n",
       "      <td>542</td>\n",
       "      <td>50706</td>\n",
       "      <td>60000</td>\n",
       "      <td>7</td>\n",
       "      <td>5</td>\n",
       "      <td>2</td>\n",
       "      <td>2</td>\n",
       "    </tr>\n",
       "    <tr>\n",
       "      <th>391</th>\n",
       "      <td>392</td>\n",
       "      <td>96929</td>\n",
       "      <td>13000</td>\n",
       "      <td>4</td>\n",
       "      <td>5</td>\n",
       "      <td>0</td>\n",
       "      <td>0</td>\n",
       "    </tr>\n",
       "    <tr>\n",
       "      <th>398</th>\n",
       "      <td>399</td>\n",
       "      <td>96929</td>\n",
       "      <td>67000</td>\n",
       "      <td>6</td>\n",
       "      <td>2</td>\n",
       "      <td>2</td>\n",
       "      <td>2</td>\n",
       "    </tr>\n",
       "    <tr>\n",
       "      <th>104</th>\n",
       "      <td>105</td>\n",
       "      <td>97935</td>\n",
       "      <td>17000</td>\n",
       "      <td>2</td>\n",
       "      <td>1</td>\n",
       "      <td>2</td>\n",
       "      <td>10</td>\n",
       "    </tr>\n",
       "    <tr>\n",
       "      <th>632</th>\n",
       "      <td>633</td>\n",
       "      <td>97935</td>\n",
       "      <td>187000</td>\n",
       "      <td>7</td>\n",
       "      <td>1</td>\n",
       "      <td>7</td>\n",
       "      <td>0</td>\n",
       "    </tr>\n",
       "  </tbody>\n",
       "</table>\n",
       "</div>"
      ],
      "text/plain": [
       "     Sl_No  Customer_Key  Avg_Credit_Limit  Total_Credit_Cards  \\\n",
       "48      49         37252              6000                   4   \n",
       "432    433         37252             59000                   6   \n",
       "4        5         47437            100000                   6   \n",
       "332    333         47437             17000                   7   \n",
       "411    412         50706             44000                   4   \n",
       "541    542         50706             60000                   7   \n",
       "391    392         96929             13000                   4   \n",
       "398    399         96929             67000                   6   \n",
       "104    105         97935             17000                   2   \n",
       "632    633         97935            187000                   7   \n",
       "\n",
       "     Total_visits_bank  Total_visits_online  Total_calls_made  \n",
       "48                   0                    2                 8  \n",
       "432                  2                    1                 2  \n",
       "4                    0                   12                 3  \n",
       "332                  3                    1                 0  \n",
       "411                  5                    0                 2  \n",
       "541                  5                    2                 2  \n",
       "391                  5                    0                 0  \n",
       "398                  2                    2                 2  \n",
       "104                  1                    2                10  \n",
       "632                  1                    7                 0  "
      ]
     },
     "execution_count": 11,
     "metadata": {},
     "output_type": "execute_result"
    }
   ],
   "source": [
    "duplicate_keys = [47437, 96929, 37252, 50706, 97935]\n",
    "df[df.Customer_Key.isin(duplicate_keys)].sort_values(by = \"Customer_Key\")"
   ]
  },
  {
   "cell_type": "markdown",
   "id": "b9ece57b",
   "metadata": {},
   "source": [
    "- Observations with identical `Customer_Key` have totally different Average Credit Limit/ Total credit cards/ Total visits bank/ Total visits online/ Total calls made.\n",
    "\n",
    "**Combine duplicate records.**"
   ]
  },
  {
   "cell_type": "code",
   "execution_count": 12,
   "id": "9d4a82fa",
   "metadata": {},
   "outputs": [
    {
     "data": {
      "text/html": [
       "<div>\n",
       "<style scoped>\n",
       "    .dataframe tbody tr th:only-of-type {\n",
       "        vertical-align: middle;\n",
       "    }\n",
       "\n",
       "    .dataframe tbody tr th {\n",
       "        vertical-align: top;\n",
       "    }\n",
       "\n",
       "    .dataframe thead th {\n",
       "        text-align: right;\n",
       "    }\n",
       "</style>\n",
       "<table border=\"1\" class=\"dataframe\">\n",
       "  <thead>\n",
       "    <tr style=\"text-align: right;\">\n",
       "      <th></th>\n",
       "      <th>Sl_No</th>\n",
       "      <th>Customer_Key</th>\n",
       "      <th>Avg_Credit_Limit</th>\n",
       "      <th>Total_Credit_Cards</th>\n",
       "      <th>Total_visits_bank</th>\n",
       "      <th>Total_visits_online</th>\n",
       "      <th>Total_calls_made</th>\n",
       "    </tr>\n",
       "  </thead>\n",
       "  <tbody>\n",
       "    <tr>\n",
       "      <th>48</th>\n",
       "      <td>49</td>\n",
       "      <td>37252</td>\n",
       "      <td>65000</td>\n",
       "      <td>10</td>\n",
       "      <td>2</td>\n",
       "      <td>3</td>\n",
       "      <td>10</td>\n",
       "    </tr>\n",
       "    <tr>\n",
       "      <th>4</th>\n",
       "      <td>5</td>\n",
       "      <td>47437</td>\n",
       "      <td>117000</td>\n",
       "      <td>13</td>\n",
       "      <td>3</td>\n",
       "      <td>13</td>\n",
       "      <td>3</td>\n",
       "    </tr>\n",
       "    <tr>\n",
       "      <th>411</th>\n",
       "      <td>412</td>\n",
       "      <td>50706</td>\n",
       "      <td>104000</td>\n",
       "      <td>11</td>\n",
       "      <td>10</td>\n",
       "      <td>2</td>\n",
       "      <td>4</td>\n",
       "    </tr>\n",
       "    <tr>\n",
       "      <th>391</th>\n",
       "      <td>392</td>\n",
       "      <td>96929</td>\n",
       "      <td>80000</td>\n",
       "      <td>10</td>\n",
       "      <td>7</td>\n",
       "      <td>2</td>\n",
       "      <td>2</td>\n",
       "    </tr>\n",
       "    <tr>\n",
       "      <th>104</th>\n",
       "      <td>105</td>\n",
       "      <td>97935</td>\n",
       "      <td>204000</td>\n",
       "      <td>9</td>\n",
       "      <td>2</td>\n",
       "      <td>9</td>\n",
       "      <td>10</td>\n",
       "    </tr>\n",
       "  </tbody>\n",
       "</table>\n",
       "</div>"
      ],
      "text/plain": [
       "     Sl_No  Customer_Key  Avg_Credit_Limit  Total_Credit_Cards  \\\n",
       "48      49         37252             65000                  10   \n",
       "4        5         47437            117000                  13   \n",
       "411    412         50706            104000                  11   \n",
       "391    392         96929             80000                  10   \n",
       "104    105         97935            204000                   9   \n",
       "\n",
       "     Total_visits_bank  Total_visits_online  Total_calls_made  \n",
       "48                   2                    3                10  \n",
       "4                    3                   13                 3  \n",
       "411                 10                    2                 4  \n",
       "391                  7                    2                 2  \n",
       "104                  2                    9                10  "
      ]
     },
     "execution_count": 12,
     "metadata": {},
     "output_type": "execute_result"
    }
   ],
   "source": [
    "attribute_cols = df.columns.to_list()[2:]   # attibute column to combine\n",
    "idx = df[df.Customer_Key.isin(duplicate_keys)].sort_values(by = \"Customer_Key\").index  # index of duplicate rows\n",
    "\n",
    "for i in range(0, len(idx), 2):\n",
    "    for col in attribute_cols:\n",
    "        df.loc[idx[i], col] += df.loc[idx[i + 1], col]   # merge the latter record to the first one\n",
    "        \n",
    "df = df.drop(index = [432, 332, 541, 398, 632])   # keep the first occurrence\n",
    "df[df.Customer_Key.isin(duplicate_keys)].sort_values(by = \"Customer_Key\")  # check duplicates again"
   ]
  },
  {
   "cell_type": "markdown",
   "id": "3239ad54",
   "metadata": {},
   "source": [
    "**Drop `Sl_No` column**"
   ]
  },
  {
   "cell_type": "code",
   "execution_count": 13,
   "id": "1de6f8e9",
   "metadata": {},
   "outputs": [],
   "source": [
    "df = df.drop(columns = \"Sl_No\")"
   ]
  },
  {
   "cell_type": "markdown",
   "id": "a21db18b",
   "metadata": {},
   "source": [
    "**Check data description**"
   ]
  },
  {
   "cell_type": "code",
   "execution_count": 14,
   "id": "a2b6b064",
   "metadata": {},
   "outputs": [
    {
     "data": {
      "text/html": [
       "<div>\n",
       "<style scoped>\n",
       "    .dataframe tbody tr th:only-of-type {\n",
       "        vertical-align: middle;\n",
       "    }\n",
       "\n",
       "    .dataframe tbody tr th {\n",
       "        vertical-align: top;\n",
       "    }\n",
       "\n",
       "    .dataframe thead th {\n",
       "        text-align: right;\n",
       "    }\n",
       "</style>\n",
       "<table border=\"1\" class=\"dataframe\">\n",
       "  <thead>\n",
       "    <tr style=\"text-align: right;\">\n",
       "      <th></th>\n",
       "      <th>Customer_Key</th>\n",
       "      <th>Avg_Credit_Limit</th>\n",
       "      <th>Total_Credit_Cards</th>\n",
       "      <th>Total_visits_bank</th>\n",
       "      <th>Total_visits_online</th>\n",
       "      <th>Total_calls_made</th>\n",
       "    </tr>\n",
       "  </thead>\n",
       "  <tbody>\n",
       "    <tr>\n",
       "      <th>count</th>\n",
       "      <td>655.000000</td>\n",
       "      <td>655.000000</td>\n",
       "      <td>655.000000</td>\n",
       "      <td>655.000000</td>\n",
       "      <td>655.000000</td>\n",
       "      <td>655.000000</td>\n",
       "    </tr>\n",
       "    <tr>\n",
       "      <th>mean</th>\n",
       "      <td>55058.158779</td>\n",
       "      <td>34838.167939</td>\n",
       "      <td>4.741985</td>\n",
       "      <td>2.421374</td>\n",
       "      <td>2.625954</td>\n",
       "      <td>3.610687</td>\n",
       "    </tr>\n",
       "    <tr>\n",
       "      <th>std</th>\n",
       "      <td>25606.965469</td>\n",
       "      <td>38000.419397</td>\n",
       "      <td>2.229012</td>\n",
       "      <td>1.657944</td>\n",
       "      <td>2.952571</td>\n",
       "      <td>2.869678</td>\n",
       "    </tr>\n",
       "    <tr>\n",
       "      <th>min</th>\n",
       "      <td>11265.000000</td>\n",
       "      <td>3000.000000</td>\n",
       "      <td>1.000000</td>\n",
       "      <td>0.000000</td>\n",
       "      <td>0.000000</td>\n",
       "      <td>0.000000</td>\n",
       "    </tr>\n",
       "    <tr>\n",
       "      <th>25%</th>\n",
       "      <td>33623.500000</td>\n",
       "      <td>10000.000000</td>\n",
       "      <td>3.000000</td>\n",
       "      <td>1.000000</td>\n",
       "      <td>1.000000</td>\n",
       "      <td>1.000000</td>\n",
       "    </tr>\n",
       "    <tr>\n",
       "      <th>50%</th>\n",
       "      <td>53898.000000</td>\n",
       "      <td>18000.000000</td>\n",
       "      <td>5.000000</td>\n",
       "      <td>2.000000</td>\n",
       "      <td>2.000000</td>\n",
       "      <td>3.000000</td>\n",
       "    </tr>\n",
       "    <tr>\n",
       "      <th>75%</th>\n",
       "      <td>77084.500000</td>\n",
       "      <td>48500.000000</td>\n",
       "      <td>6.000000</td>\n",
       "      <td>4.000000</td>\n",
       "      <td>4.000000</td>\n",
       "      <td>5.000000</td>\n",
       "    </tr>\n",
       "    <tr>\n",
       "      <th>max</th>\n",
       "      <td>99843.000000</td>\n",
       "      <td>204000.000000</td>\n",
       "      <td>13.000000</td>\n",
       "      <td>10.000000</td>\n",
       "      <td>15.000000</td>\n",
       "      <td>10.000000</td>\n",
       "    </tr>\n",
       "  </tbody>\n",
       "</table>\n",
       "</div>"
      ],
      "text/plain": [
       "       Customer_Key  Avg_Credit_Limit  Total_Credit_Cards  Total_visits_bank  \\\n",
       "count    655.000000        655.000000          655.000000         655.000000   \n",
       "mean   55058.158779      34838.167939            4.741985           2.421374   \n",
       "std    25606.965469      38000.419397            2.229012           1.657944   \n",
       "min    11265.000000       3000.000000            1.000000           0.000000   \n",
       "25%    33623.500000      10000.000000            3.000000           1.000000   \n",
       "50%    53898.000000      18000.000000            5.000000           2.000000   \n",
       "75%    77084.500000      48500.000000            6.000000           4.000000   \n",
       "max    99843.000000     204000.000000           13.000000          10.000000   \n",
       "\n",
       "       Total_visits_online  Total_calls_made  \n",
       "count           655.000000        655.000000  \n",
       "mean              2.625954          3.610687  \n",
       "std               2.952571          2.869678  \n",
       "min               0.000000          0.000000  \n",
       "25%               1.000000          1.000000  \n",
       "50%               2.000000          3.000000  \n",
       "75%               4.000000          5.000000  \n",
       "max              15.000000         10.000000  "
      ]
     },
     "execution_count": 14,
     "metadata": {},
     "output_type": "execute_result"
    }
   ],
   "source": [
    "df.describe()"
   ]
  },
  {
   "cell_type": "markdown",
   "id": "ce7726ae",
   "metadata": {},
   "source": [
    "- `Avg_Credit_Limit` is right skewed and has a wide range from 3000 to 204000.\n",
    "- The remaining columns have similar range and almost equal mean and median.\n",
    "\n",
    "# Univariate Analysis"
   ]
  },
  {
   "cell_type": "code",
   "execution_count": 19,
   "id": "33607a16",
   "metadata": {},
   "outputs": [
    {
     "data": {
      "image/png": "[encoded data removed]",
      "text/plain": [
       "<Figure size 1080x864 with 5 Axes>"
      ]
     },
     "metadata": {},
     "output_type": "display_data"
    }
   ],
   "source": [
    "plt.figure(figsize = (15,12))\n",
    "for i,col in enumerate(attribute_cols):\n",
    "    plt.subplot(3, 2, i + 1)\n",
    "    sns.histplot(df[col], kde = True);"
   ]
  },
  {
   "cell_type": "code",
   "execution_count": 21,
   "id": "51864446",
   "metadata": {},
   "outputs": [
    {
     "data": {
      "image/png": "[encoded data removed]",
      "text/plain": [
       "<Figure size 1080x864 with 5 Axes>"
      ]
     },
     "metadata": {},
     "output_type": "display_data"
    }
   ],
   "source": [
    "plt.figure(figsize = (15,12))\n",
    "for i,col in enumerate(attribute_cols):\n",
    "    plt.subplot(3, 2, i + 1)\n",
    "    sns.boxplot(x = col, data = df, showmeans = True, color = \"orange\");"
   ]
  },
  {
   "cell_type": "markdown",
   "id": "c7f412e4",
   "metadata": {},
   "source": [
    "- Most customers get credit limit less than 25000. Lots of outliers on the right side.\n",
    "- All customers have at least one credit card. On average five credit cards per customer. Most customers have no more than six credit cards. \n",
    "- Most customers visit the bank personally less than six times yearly. Some never visit the bank.\n",
    "- Most customers login the bank's website less than four times yearly. Some never use the online service. However there're also a bunch of customers login as frequently as 12+ times yearly.\n",
    "- Most customers call the bank no more than four times yearly. Some of them never call."
   ]
  },
  {
   "cell_type": "code",
   "execution_count": null,
   "id": "5377d460",
   "metadata": {},
   "outputs": [],
   "source": []
  },
  {
   "cell_type": "code",
   "execution_count": null,
   "id": "e37c37d4",
   "metadata": {},
   "outputs": [],
   "source": []
  },
  {
   "cell_type": "code",
   "execution_count": null,
   "id": "af139618",
   "metadata": {},
   "outputs": [],
   "source": []
  },
  {
   "cell_type": "code",
   "execution_count": null,
   "id": "c4604782",
   "metadata": {},
   "outputs": [],
   "source": []
  }
 ],
 "metadata": {
  "kernelspec": {
   "display_name": "Python 3",
   "language": "python",
   "name": "python3"
  },
  "language_info": {
   "codemirror_mode": {
    "name": "ipython",
    "version": 3
   },
   "file_extension": ".py",
   "mimetype": "text/x-python",
   "name": "python",
   "nbconvert_exporter": "python",
   "pygments_lexer": "ipython3",
   "version": "3.8.10"
  }
 },
 "nbformat": 4,
 "nbformat_minor": 5
}
